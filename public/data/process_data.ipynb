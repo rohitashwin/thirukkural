{
 "cells": [
  {
   "cell_type": "code",
   "execution_count": 2,
   "metadata": {},
   "outputs": [],
   "source": [
    "import json\n",
    "import math\n",
    "with open('unprocessed_kurals.json', 'rb') as f:\n",
    "    data = json.load(f)\n",
    "kurals = data\n",
    "processed = []\n",
    "chapter_names = [\"The Praise of God\", \"The Blessing of Rain\", \"The Greatness of Ascetics\", \"Assertion of the Strength of Virtue\", \"Domestic Life\", \"The Worth of a Wife\", \"The Wealth of Children\", \"The Possession of Love\", \"Hospitality\", \"The Utterance of Pleasant Words\", \"Gratitude\", \"Impartiality\", \"The Possession of Self-restraint\", \"The Possession of Decorum\", \"Not coveting another's Wife\", \"The Possession of Patience, Forbearance\", \"Not Envying\", \"Not Coveting\", \"Not Backbiting\", \"Against Vain Speaking\", \"Dread of Evil Deeds\", \"Duty to Society\", \"Giving\", \"Renown\", \"Compassion\", \"Abstinence from Flesh\", \"Penance\", \"Imposture\", \"The Absence of Fraud\", \"Veracity\", \"Restraining Anger\", \"Not doing Evil\", \"Not killing\", \"Instability\", \"Renunciation\", \"Truth-Conciousness\", \"Curbing of Desire\", \"Fate\", \"The Greatness of a King\", \"Learning\", \"Ignorance\", \"Hearing\", \"The Possession of Knowledge\", \"The Correction of Faults\", \"Seeking the Aid of Great Men\", \"Avoiding mean Associations\", \"Acting after due Consideration\", \"The Knowledge of Power\", \"Knowing the fitting Time\", \"Knowing the Place\", \"Selection and Confidence\", \"Selection and Employment\", \"Cherishing Kinsmen\", \"Unforgetfulness\", \"The Right Sceptre\", \"The Cruel Sceptre\", \"Absence of Terrorism\", \"Benignity\", \"Detectives\", \"Energy\", \"Unsluggishness\", \"Manly Effort\", \"Hopefulness in Trouble\", \"The Office of Minister of state\", \"Power of Speech\", \"Purity in Action\", \"Power in Action\",\n",
    "                 \"Modes of Action\", \"The Envoy\", \"Conduct in the Presence of the King\", \"The Knowledge of Indications\", \"The Knowledge of the Council Chamber\", \"Not to dread the Council\", \"The Land\", \"The Fortification\", \"Way of Accumulating Wealth\", \"The Excellence of an Army\", \"Military Spirit\", \"Friendship\", \"Investigation in forming Friendships\", \"Familiarity\", \"Evil Friendship\", \"Unreal Friendship\", \"Folly\", \"Ignorance\", \"Hostility\", \"The Might of Hatred\", \"Knowing the Quality of Hate\", \"Enmity within\", \"Not Offending the Great\", \"Being led by Women\", \"Wanton Women\", \"Not Drinking Palm-Wine\", \"Gambling\", \"Medicine\", \"Nobility\", \"Honour\", \"Greatness\", \"Perfectness\", \"Courtesy\", \"Wealth without Benefaction\", \"Shame\", \"The Way of Maintaining the Family\", \"Farming\", \"Poverty\", \"Mendicancy\", \"The Dread of Mendicancy\", \"Baseness\", \"The Pre-marital love\", \"Recognition of the Signs\", \"Rejoicing in the Embrace\", \"The Praise of her Beauty\", \"Declaration of Love's special Excellence\", \"The Abandonment of Reserve\", \"The Announcement of the Rumour\", \"Separation unendurable\", \"Complainings\", \"Eyes consumed with Grief\", \"The Pallid Hue\", \"The Solitary Anguish\", \"Sad Memories\", \"The Visions of the Night\", \"Lamentations at Eventide\", \"Wasting Away\", \"Soliloquy\", \"Reserve Overcome\", \"Mutual Desire\", \"The Reading of the Signs\", \"Desire for Reunion\", \"Expostulation with Oneself\", \"Pouting\", \"Feigned Anger\", \"The Pleasures of Temporary Variance\"]\n",
    "for ind, unprocessed_kural in enumerate(kurals):\n",
    "    kural = dict()\n",
    "    chapter = math.ceil((ind + 1) / 10)\n",
    "    book = \"virtue\" if chapter <= 38 else \"wealth\" if chapter <= 108 else \"love\"\n",
    "    kural['number'] = ind + 1\n",
    "    kural['line1'] = unprocessed_kural['Line1']\n",
    "    kural['line2'] = unprocessed_kural['Line2']\n",
    "    kural['explanation'] = unprocessed_kural['explanation']\n",
    "    kural['chapter'] = chapter\n",
    "    kural['book'] = book\n",
    "    kural['chapter_name'] = chapter_names[chapter - 1]\n",
    "    kural['manually_verified'] = False\n",
    "    processed.append(kural)\n",
    "with open('processed_kurals_new.json', 'w') as f:\n",
    "    json.dump(processed, f, ensure_ascii=False)\n"
   ]
  },
  {
   "cell_type": "code",
   "execution_count": 6,
   "metadata": {},
   "outputs": [
    {
     "name": "stdout",
     "output_type": "stream",
     "text": [
      "\"The Praise of God\", \"The Blessing of Rain\", \"The Greatness of Ascetics\", \"Assertion of the Strength of Virtue\", \"Domestic Life\", \"The Worth of a Wife\", \"The Wealth of Children\", \"The Possession of Love\", \"Hospitality\", \"The Utterance of Pleasant Words\", \"Gratitude\", \"Impartiality\", \"The Possession of Self-restraint\", \"The Possession of Decorum\", \"Not coveting another's Wife\", \"The Possession of Patience, Forbearance\", \"Not Envying\", \"Not Coveting\", \"Not Backbiting\", \"Against Vain Speaking\", \"Dread of Evil Deeds\", \"Duty to Society\", \"Giving\", \"Renown\", \"Compassion\", \"Abstinence from Flesh\", \"Penance\", \"Imposture\", \"The Absence of Fraud\", \"Veracity\", \"Restraining Anger\", \"Not doing Evil\", \"Not killing\", \"Instability\", \"Renunciation\", \"Truth-Conciousness\", \"Curbing of Desire\", \"Fate\", \n",
      "\n",
      "\"The Greatness of a King\", \"Learning\", \"Ignorance\", \"Hearing\", \"The Possession of Knowledge\", \"The Correction of Faults\", \"Seeking the Aid of Great Men\", \"Avoiding mean Associations\", \"Acting after due Consideration\", \"The Knowledge of Power\", \"Knowing the fitting Time\", \"Knowing the Place\", \"Selection and Confidence\", \"Selection and Employment\", \"Cherishing Kinsmen\", \"Unforgetfulness\", \"The Right Sceptre\", \"The Cruel Sceptre\", \"Absence of Terrorism\", \"Benignity\", \"Detectives\", \"Energy\", \"Unsluggishness\", \"Manly Effort\", \"Hopefulness in Trouble\", \"The Office of Minister of state\", \"Power of Speech\", \"Purity in Action\", \"Power in Action\", \"Modes of Action\", \"The Envoy\", \"Conduct in the Presence of the King\", \"The Knowledge of Indications\", \"The Knowledge of the Council Chamber\", \"Not to dread the Council\", \"The Land\", \"The Fortification\", \"Way of Accumulating Wealth\", \"The Excellence of an Army\", \"Military Spirit\", \"Friendship\", \"Investigation in forming Friendships\", \"Familiarity\", \"Evil Friendship\", \"Unreal Friendship\", \"Folly\", \"Ignorance\", \"Hostility\", \"The Might of Hatred\", \"Knowing the Quality of Hate\", \"Enmity within\", \"Not Offending the Great\", \"Being led by Women\", \"Wanton Women\", \"Not Drinking Palm-Wine\", \"Gambling\", \"Medicine\", \"Nobility\", \"Honour\", \"Greatness\", \"Perfectness\", \"Courtesy\", \"Wealth without Benefaction\", \"Shame\", \"The Way of Maintaining the Family\", \"Farming\", \"Poverty\", \"Mendicancy\", \"The Dread of Mendicancy\", \"Baseness\", \n",
      "\n",
      "\"The Pre-marital love\", \"Recognition of the Signs\", \"Rejoicing in the Embrace\", \"The Praise of her Beauty\", \"Declaration of Love's special Excellence\", \"The Abandonment of Reserve\", \"The Announcement of the Rumour\", \"Separation unendurable\", \"Complainings\", \"Eyes consumed with Grief\", \"The Pallid Hue\", \"The Solitary Anguish\", \"Sad Memories\", \"The Visions of the Night\", \"Lamentations at Eventide\", \"Wasting Away\", \"Soliloquy\", \"Reserve Overcome\", \"Mutual Desire\", \"The Reading of the Signs\", \"Desire for Reunion\", \"Expostulation with Oneself\", \"Pouting\", \"Feigned Anger\", \"The Pleasures of Temporary Variance\", "
     ]
    }
   ],
   "source": [
    "for i in range(38):\n",
    "\tprint(fr'\"{chapter_names[i]}\", ', end='')\n",
    "print()\n",
    "print()\n",
    "for i in range(38, 108):\n",
    "\tprint(fr'\"{chapter_names[i]}\", ', end='')\n",
    "print()\n",
    "print()\n",
    "for i in range(108, 133):\n",
    "\tprint(fr'\"{chapter_names[i]}\", ', end='')"
   ]
  },
  {
   "cell_type": "markdown",
   "metadata": {},
   "source": []
  }
 ],
 "metadata": {
  "kernelspec": {
   "display_name": "Python 3",
   "language": "python",
   "name": "python3"
  },
  "language_info": {
   "codemirror_mode": {
    "name": "ipython",
    "version": 3
   },
   "file_extension": ".py",
   "mimetype": "text/x-python",
   "name": "python",
   "nbconvert_exporter": "python",
   "pygments_lexer": "ipython3",
   "version": "3.9.6"
  },
  "orig_nbformat": 4,
  "vscode": {
   "interpreter": {
    "hash": "31f2aee4e71d21fbe5cf8b01ff0e069b9275f58929596ceb00d14d90e3e16cd6"
   }
  }
 },
 "nbformat": 4,
 "nbformat_minor": 2
}
